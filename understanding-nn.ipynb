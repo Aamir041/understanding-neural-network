{
 "cells": [
  {
   "cell_type": "markdown",
   "id": "979110ff",
   "metadata": {},
   "source": [
    "## Neural Network Structure\n",
    "A Simple Neural Network **(SNN)** generally looks have three components \n",
    "- A Input Layer\n",
    "- A Hidden Layer\n",
    "- A Output Layer\n",
    "A SNN can have more than one hidden layer\n",
    "At a high lvl data is first received at input layer then it is processed by hidden layer and result is determined by output layer\n",
    "<img src=\"images\\snn.png\" alt=\"drawing\" width=\"500\"/>\n",
    "\n",
    "Each layer consists of nodes and and each neuron is connected to node of subsequent layer with weight and each neuron has a bias\n",
    "\n",
    "```no. weights + no. bais = no. of parameteres```"
   ]
  },
  {
   "cell_type": "code",
   "execution_count": null,
   "id": "9efe6364",
   "metadata": {},
   "outputs": [
    {
     "name": "stdout",
     "output_type": "stream",
     "text": [
      "output at one node 11.57\n"
     ]
    }
   ],
   "source": [
    "## This what happens at one node\n",
    "# inputs = [1.2, 2.4, 1.3]\n",
    "# weights = [2.5, 1.4, 1.7]\n",
    "# bais = 3\n",
    "# output = (inputs[0]*weights[0] + inputs[1]*weights[1] + inputs[2]*weights[2]) + bais\n",
    "# print(f\"output at one node {output}\")"
   ]
  },
  {
   "cell_type": "code",
   "execution_count": null,
   "id": "1c12c73b",
   "metadata": {},
   "outputs": [
    {
     "name": "stdout",
     "output_type": "stream",
     "text": [
      "output at output layer neuron 985.468\n"
     ]
    }
   ],
   "source": [
    "# Modeling output layer neuron\n",
    "# intputs2 = [3.4, 5.9, 3.9, 6.2]\n",
    "# weights2 = [1.4, 5.3, 8.5, 4.6]\n",
    "# bais2 = 4\n",
    "# output2 = (intputs2[0]*weights2[0] + intputs2[1]*weights2[1] + intputs2[2]*weights2[2] * intputs2[3]*weights2[3]) + bais2\n",
    "# print(f\"output at output layer neuron {output2}\")"
   ]
  },
  {
   "cell_type": "code",
   "execution_count": null,
   "id": "aeb4e3d7",
   "metadata": {},
   "outputs": [
    {
     "name": "stdout",
     "output_type": "stream",
     "text": [
      "[4.8, 1.21, 2.385]\n"
     ]
    }
   ],
   "source": [
    "## Calculation for three nodes at output layer\n",
    "# each neuron is connected to subsequent node with a weight\n",
    "# inputs = [1,2,3,2.5]\n",
    "# weights1 = [0.2, 0.8, -0.5, 1.0]\n",
    "# weights2 = [0.5, -0.91, 0.26, -0.5]\n",
    "# weights3 = [-0.26, -0.27, 0.17, 0.87]\n",
    "\n",
    "# bais1 = 2\n",
    "# bais2 = 3\n",
    "# bais3 = 0.5\n",
    "# output = [(inputs[0]*weights1[0] + inputs[1]*weights1[1] + inputs[2]*weights1[2] + inputs[3]*weights1[3])  + bais1,\n",
    "#           (inputs[0]*weights2[0] + inputs[1]*weights2[1] + inputs[2]*weights2[2] + inputs[3]*weights2[3])  + bais2,\n",
    "#           (inputs[0]*weights3[0] + inputs[1]*weights3[1] + inputs[2]*weights3[2] + inputs[3]*weights3[3])  + bais3]\n",
    "# print(output)"
   ]
  },
  {
   "cell_type": "markdown",
   "id": "c6bb7171",
   "metadata": {},
   "source": [
    "<img src=\"images\\nn_basic_1.png\" alt=\"drawing\" width=\"350\"/>\n"
   ]
  },
  {
   "cell_type": "code",
   "execution_count": 4,
   "id": "444dc9aa",
   "metadata": {},
   "outputs": [
    {
     "name": "stdout",
     "output_type": "stream",
     "text": [
      "[4.8, 1.21, 2.385]\n"
     ]
    }
   ],
   "source": [
    "## Calculation for three nodes at output layer\n",
    "# each neuron is connected to subsequent node with a weight\n",
    "inputs = [1,2,3,2.5]\n",
    "weights = [[0.2, 0.8, -0.5, 1.0],\n",
    "            [0.5, -0.91, 0.26, -0.5],\n",
    "            [-0.26, -0.27, 0.17, 0.87]]\n",
    "\n",
    "baises = [2 , 3, 0.5]\n",
    "output = []\n",
    "\n",
    "for neutron_baise, neutron_weight in zip(baises,weights):\n",
    "    neutron_output = 0\n",
    "    for neutron_input, weight in zip (inputs, neutron_weight):\n",
    "        neutron_output += (neutron_input*weight)\n",
    "    neutron_output += neutron_baise\n",
    "    output.append(neutron_output)\n",
    "print(output)"
   ]
  },
  {
   "cell_type": "markdown",
   "id": "31d8baf7",
   "metadata": {},
   "source": [
    "## Shapes\n"
   ]
  }
 ],
 "metadata": {
  "kernelspec": {
   "display_name": "Python 3 (ipykernel)",
   "language": "python",
   "name": "python3"
  },
  "language_info": {
   "codemirror_mode": {
    "name": "ipython",
    "version": 3
   },
   "file_extension": ".py",
   "mimetype": "text/x-python",
   "name": "python",
   "nbconvert_exporter": "python",
   "pygments_lexer": "ipython3",
   "version": "3.13.3"
  }
 },
 "nbformat": 4,
 "nbformat_minor": 5
}
